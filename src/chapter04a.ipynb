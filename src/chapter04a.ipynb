{
 "cells": [
  {
   "cell_type": "markdown",
   "metadata": {},
   "source": [
    "#### Analyzing Neural Time Series Data\n",
    "Python code for Chapter 4 script A -- converted from original Matlab by AE Studio (and ChatGPT)\\\n",
    "Original Matlab code by Mike X Cohen\n",
    "\n",
    "This code accompanies the book, titled \"Analyzing Neural Time Series Data\" (MIT Press).\\\n",
    "Using the code without following the book may lead to confusion, incorrect data analyses, and misinterpretations of results.\\\n",
    "Mike X Cohen and AE Studio assume no responsibility for inappropriate or incorrect use of this code."
   ]
  },
  {
   "cell_type": "code",
   "execution_count": 1,
   "metadata": {},
   "outputs": [],
   "source": [
    "# Import necessary libraries\n",
    "import numpy as np"
   ]
  },
  {
   "cell_type": "code",
   "execution_count": 9,
   "metadata": {},
   "outputs": [
    {
     "name": "stdout",
     "output_type": "stream",
     "text": [
      "30\n",
      "-3.0\n",
      "mike\n",
      "[[3 4 5]\n",
      " [1 2 3]\n",
      " [9 8 7]]\n",
      "mike cohen\n",
      "[7, 23]\n"
     ]
    }
   ],
   "source": [
    "# Variables, part I\n",
    "\n",
    "# Let's start with variables. To create a variable, you simply assign it information. \n",
    "# For example,\n",
    "\n",
    "mike = 10\n",
    "bob = 20\n",
    "\n",
    "# You can add them, multiply them, etc:\n",
    "print(mike + bob) # Note: You can also put comments after code\n",
    "print((mike + bob) / (mike - bob))\n",
    "\n",
    "# Variables can also be strings:\n",
    "mike = 'mike' \n",
    "print(mike)\n",
    "# Now we've re-assigned mike from a number to a string.\n",
    "\n",
    "# You can also assign matrices to variables:\n",
    "a_simple_matrix = np.array([[3, 4, 5], [1, 2, 3], [9, 8, 7]])\n",
    "print(a_simple_matrix)\n",
    "\n",
    "# Lists concatenate:\n",
    "mikes_full_name = mike + ' cohen'\n",
    "mikes_two_fav_numbers = [7, 23]\n",
    "\n"
   ]
  },
  {
   "cell_type": "code",
   "execution_count": 8,
   "metadata": {},
   "outputs": [
    {
     "name": "stdout",
     "output_type": "stream",
     "text": [
      "[array([1, 2, 3, 4, 5, 6, 7]), 'hello world', array([  1,   3,   6,   7,   4,   3,   5,   6,   7,  87,  76,  43,   4,\n",
      "         5,   6, 767])]\n",
      "hello world\n",
      "{'name': 'mike', 'position': 'author', 'favorite_toothpaste_flavor': 'cinnamon', 'number_of_watches': 18, 'favorite_color': [0.8, 0.1, 0.8]}\n",
      "18\n",
      "['cinnamon', 'bratworst']\n"
     ]
    }
   ],
   "source": [
    "# %% Variables, part II\n",
    "\n",
    "# Variables can be more sophisticated. Variables can be lists or dictionaries, which\n",
    "# are like blocks that may contain different kinds of information. \n",
    "var1 = [np.array([1, 2, 3, 4, 5, 6, 7]), 'hello world', np.array([1, 3, 6, 7, 4, 3, 5, 6, 7, 87, 76, 43, 4, 5, 6, 767])]\n",
    "\n",
    "print(var1)\n",
    "print(var1[1])\n",
    "\n",
    "# The most flexible type of variable is a dictionary. Dictionaries contain keys that \n",
    "# are used for different kinds of data. For example:\n",
    "\n",
    "ANTS = [{'name': 'mike', 'position': 'author', 'favorite_toothpaste_flavor': 'cinnamon', 'number_of_watches': 18, 'favorite_color': [0.8, 0.1, 0.8]}]\n",
    "\n",
    "# You can also have a list of dictionaries\n",
    "ANTS.append({'name': 'Your name here', 'position': 'reader', 'favorite_toothpaste_flavor': 'bratworst', 'number_of_watches': 1, 'favorite_color': [1, 1, 1]})\n",
    "\n",
    "# Now you can get information about all keys from one specific element of\n",
    "# the dictionary:\n",
    "print(ANTS[0])\n",
    "\n",
    "# Or information about one key within one member:\n",
    "print(ANTS[0]['number_of_watches'])\n",
    "\n",
    "# Or information about one key from all members:\n",
    "print([favorite_flavor['favorite_toothpaste_flavor'] for favorite_flavor in ANTS])"
   ]
  },
  {
   "cell_type": "code",
   "execution_count": 23,
   "metadata": {},
   "outputs": [
    {
     "name": "stdout",
     "output_type": "stream",
     "text": [
      "[1, 4, 2, 3]\n",
      "3.5\n",
      "Help on function amax in module numpy:\n",
      "\n",
      "amax(a, axis=None, out=None, keepdims=<no value>, initial=<no value>, where=<no value>)\n",
      "    Return the maximum of an array or maximum along an axis.\n",
      "    \n",
      "    Parameters\n",
      "    ----------\n",
      "    a : array_like\n",
      "        Input data.\n",
      "    axis : None or int or tuple of ints, optional\n",
      "        Axis or axes along which to operate.  By default, flattened input is\n",
      "        used.\n",
      "    \n",
      "        .. versionadded:: 1.7.0\n",
      "    \n",
      "        If this is a tuple of ints, the maximum is selected over multiple axes,\n",
      "        instead of a single axis or all the axes as before.\n",
      "    out : ndarray, optional\n",
      "        Alternative output array in which to place the result.  Must\n",
      "        be of the same shape and buffer length as the expected output.\n",
      "        See :ref:`ufuncs-output-type` for more details.\n",
      "    \n",
      "    keepdims : bool, optional\n",
      "        If this is set to True, the axes which are reduced are left\n",
      "        in the result as dimensions with size one. With this option,\n",
      "        the result will broadcast correctly against the input array.\n",
      "    \n",
      "        If the default value is passed, then `keepdims` will not be\n",
      "        passed through to the `amax` method of sub-classes of\n",
      "        `ndarray`, however any non-default value will be.  If the\n",
      "        sub-class' method does not implement `keepdims` any\n",
      "        exceptions will be raised.\n",
      "    \n",
      "    initial : scalar, optional\n",
      "        The minimum value of an output element. Must be present to allow\n",
      "        computation on empty slice. See `~numpy.ufunc.reduce` for details.\n",
      "    \n",
      "        .. versionadded:: 1.15.0\n",
      "    \n",
      "    where : array_like of bool, optional\n",
      "        Elements to compare for the maximum. See `~numpy.ufunc.reduce`\n",
      "        for details.\n",
      "    \n",
      "        .. versionadded:: 1.17.0\n",
      "    \n",
      "    Returns\n",
      "    -------\n",
      "    amax : ndarray or scalar\n",
      "        Maximum of `a`. If `axis` is None, the result is a scalar value.\n",
      "        If `axis` is an int, the result is an array of dimension\n",
      "        ``a.ndim - 1``. If `axis` is a tuple, the result is an array of \n",
      "        dimension ``a.ndim - len(axis)``.\n",
      "    \n",
      "    See Also\n",
      "    --------\n",
      "    amin :\n",
      "        The minimum value of an array along a given axis, propagating any NaNs.\n",
      "    nanmax :\n",
      "        The maximum value of an array along a given axis, ignoring any NaNs.\n",
      "    maximum :\n",
      "        Element-wise maximum of two arrays, propagating any NaNs.\n",
      "    fmax :\n",
      "        Element-wise maximum of two arrays, ignoring any NaNs.\n",
      "    argmax :\n",
      "        Return the indices of the maximum values.\n",
      "    \n",
      "    nanmin, minimum, fmin\n",
      "    \n",
      "    Notes\n",
      "    -----\n",
      "    NaN values are propagated, that is if at least one item is NaN, the\n",
      "    corresponding max value will be NaN as well. To ignore NaN values\n",
      "    (MATLAB behavior), please use nanmax.\n",
      "    \n",
      "    Don't use `amax` for element-wise comparison of 2 arrays; when\n",
      "    ``a.shape[0]`` is 2, ``maximum(a[0], a[1])`` is faster than\n",
      "    ``amax(a, axis=0)``.\n",
      "    \n",
      "    Examples\n",
      "    --------\n",
      "    >>> a = np.arange(4).reshape((2,2))\n",
      "    >>> a\n",
      "    array([[0, 1],\n",
      "           [2, 3]])\n",
      "    >>> np.amax(a)           # Maximum of the flattened array\n",
      "    3\n",
      "    >>> np.amax(a, axis=0)   # Maxima along the first axis\n",
      "    array([2, 3])\n",
      "    >>> np.amax(a, axis=1)   # Maxima along the second axis\n",
      "    array([1, 3])\n",
      "    >>> np.amax(a, where=[False, True], initial=-1, axis=0)\n",
      "    array([-1,  3])\n",
      "    >>> b = np.arange(5, dtype=float)\n",
      "    >>> b[2] = np.NaN\n",
      "    >>> np.amax(b)\n",
      "    nan\n",
      "    >>> np.amax(b, where=~np.isnan(b), initial=-1)\n",
      "    4.0\n",
      "    >>> np.nanmax(b)\n",
      "    4.0\n",
      "    \n",
      "    You can use an initial value to compute the maximum of an empty slice, or\n",
      "    to initialize it to a different value:\n",
      "    \n",
      "    >>> np.amax([[-50], [10]], axis=-1, initial=0)\n",
      "    array([ 0, 10])\n",
      "    \n",
      "    Notice that the initial value is used as one of the elements for which the\n",
      "    maximum is determined, unlike for the default argument Python's max\n",
      "    function, which is only used for empty iterables.\n",
      "    \n",
      "    >>> np.amax([5], initial=6)\n",
      "    6\n",
      "    >>> max([5], default=6)\n",
      "    5\n",
      "\n"
     ]
    }
   ],
   "source": [
    "# Functions\n",
    "\n",
    "# Functions are modular pieces of code stored in a separate file or within the same script. \n",
    "# Most functions can be opened and you can see/modify the code. Some functions\n",
    "# are compiled and not viewable or editable.\n",
    "\n",
    "# Functions may take inputs:\n",
    "import random\n",
    "\n",
    "print(random.sample(range(1, 5), 4))  # randperm is a function that randomly permutes integers. 4 is the input.\n",
    "\n",
    "# Or a list:\n",
    "print(np.mean([1, 3, 2, 4, 3, 5, 4, 6]))\n",
    "\n",
    "# Most functions also give outputs:\n",
    "permuted_integers = random.sample(range(1, 5), 4)  # now the output of the function is stored in a new variable\n",
    "\n",
    "# Some functions can have multiple inputs: \n",
    "random_number_matrix = np.random.rand(4, 6)  # Here, we asked for a 4 x 6 matrix of random numbers\n",
    "\n",
    "# Some functions have multiple outputs:\n",
    "max_value, max_value_index = np.max([1, 2, 3, 9, 8, 7, 6]), np.argmax([1, 2, 3, 9, 8, 7, 6])\n",
    "# This also shows list indexing, which we'll get to soon.\n",
    "\n",
    "# IMPORTANT: You can use the output of one function as the input to another\n",
    "# function. This is a powerful way to make your programming fast and\n",
    "# efficient. On the other hand, if you embed functions to an extreme you\n",
    "# might create unreadable code.\n",
    "max_value, max_value_index = np.max(random.sample(range(1, round(np.random.rand(1)[0] * 10) + 4), 4)), np.argmax(random.sample(range(1, round(np.random.rand(1)[0] * 10) + 4), 4))\n",
    "\n",
    "# Use the help() function in Python to read about a function.\n",
    "help(np.max)"
   ]
  },
  {
   "cell_type": "code",
   "execution_count": 24,
   "metadata": {},
   "outputs": [],
   "source": [
    "# Indexing\n",
    "\n",
    "# Indexing is a powerful tool in Python to access particular parts of a\n",
    "# variable. Indexing is very simple: Imagine you have 100 twinkies arranged\n",
    "# in a 10 x 10 square: \n",
    "twinkies = np.random.rand(10, 10)\n",
    "\n",
    "# If you wanted to eat the twinkie in the 4th row, 8th column, you write:\n",
    "the_twinkie_i_will_eat = twinkies[3, 7]  # Note that Python uses 0-based indexing"
   ]
  },
  {
   "cell_type": "code",
   "execution_count": 25,
   "metadata": {},
   "outputs": [
    {
     "name": "stdout",
     "output_type": "stream",
     "text": [
      "[1, 2, 3, 4, 5, 6, 7, 8, 9, 10]\n",
      "[1, 3, 5, 7, 9]\n",
      "(5, 5)\n"
     ]
    }
   ],
   "source": [
    "# The colon operator\n",
    "\n",
    "# In Python, we use the range() function or numpy's arange() to create sequences of numbers.\n",
    "# Observe:\n",
    "print(list(range(1, 11)))\n",
    "# You can also increment by a certain amount:\n",
    "print(list(range(1, 11, 2)))\n",
    "count2ten = np.arange(1, 10, 0.23956)\n",
    "\n",
    "# The colon operator is also useful when indexing. Let's say you want to\n",
    "# eat several twinkies:\n",
    "twinkies_i_will_eat = twinkies[3:8, 1:6]\n",
    "\n",
    "# Question: How big should the variable twinkies_i_will_eat be? \n",
    "print(twinkies_i_will_eat.shape)  # answer\n",
    "\n",
    "# To count backwards, you must specify that you want to skip with a negative number:\n",
    "rookie_mistake = list(range(10, 1))\n",
    "how_the_pros_do_it = list(range(10, 0, -1))"
   ]
  },
  {
   "cell_type": "code",
   "execution_count": 26,
   "metadata": {},
   "outputs": [
    {
     "name": "stdout",
     "output_type": "stream",
     "text": [
      "4\n",
      "(10, 10)\n",
      "10\n",
      "100\n",
      "100\n",
      "2\n"
     ]
    }
   ],
   "source": [
    "# Determining the sizes of variables\n",
    "\n",
    "# You can see variable sizes using the shape attribute, but there are also ways \n",
    "# to output matrix sizes into variables, which will be useful in many situations.\n",
    "\n",
    "print(len(random_number_matrix))  # \"len\" returns the length of the first dimension.\n",
    "\n",
    "# You can use shape to find the sizes of all dimensions:\n",
    "print(twinkies.shape)\n",
    "print(twinkies.shape[0])  # or only specific dimensions...\n",
    "\n",
    "print(np.size(twinkies))  # np.size returns the total number of elements\n",
    "\n",
    "# These functions also produce outputs:\n",
    "twinkie_array_size = twinkies.shape\n",
    "print(np.prod(twinkie_array_size))  # np.prod returns the product of input numbers\n",
    "\n",
    "# Of course, these functions work on non-numeric variables, e.g.,\n",
    "print(len(ANTS))"
   ]
  },
  {
   "cell_type": "code",
   "execution_count": 27,
   "metadata": {},
   "outputs": [
    {
     "name": "stdout",
     "output_type": "stream",
     "text": [
      "1\n",
      "2\n",
      "3\n",
      "4\n",
      "5\n",
      "6\n",
      "7\n",
      "8\n",
      "9\n",
      "10\n",
      "The 1th iteration value times 2 divided by 3 and added to 7 is 7.666666666666667.\n",
      "The 3th iteration value times 2 divided by 3 and added to 7 is 9.0.\n",
      "The 5th iteration value times 2 divided by 3 and added to 7 is 10.333333333333334.\n",
      "The 7th iteration value times 2 divided by 3 and added to 7 is 11.666666666666668.\n",
      "The 9th iteration value times 2 divided by 3 and added to 7 is 13.0.\n"
     ]
    }
   ],
   "source": [
    "# For-loops\n",
    "\n",
    "# A for-loop is a way to iterate repeatedly:\n",
    "\n",
    "for counting_variable in range(1, 11):\n",
    "    print(counting_variable)  # print is used instead of disp in Python\n",
    "\n",
    "# Another example:\n",
    "for counting_variable in range(1, 11, 2):\n",
    "    print(f\"The {counting_variable}th iteration value times 2 divided by 3 and added to 7 is {counting_variable * 2 / 3 + 7}.\")\n",
    "\n",
    "# You can embed loops within loops\n",
    "number_rows = 5\n",
    "number_columns = 7\n",
    "product_matrix = np.zeros((number_rows, number_columns))\n",
    "\n",
    "for i in range(number_rows):\n",
    "    for j in range(number_columns):\n",
    "        product_matrix[i, j] = (i + 1) * (j + 1)  # Python uses 0-based indexing, so we add 1"
   ]
  },
  {
   "cell_type": "code",
   "execution_count": 28,
   "metadata": {},
   "outputs": [
    {
     "name": "stdout",
     "output_type": "stream",
     "text": [
      "Whew! Everything's normal.\n",
      "The 1st iteration value times 2 divided by 3 and added to 7 is 7.666666666666667.\n",
      "The 3rd iteration value times 2 divided by 3 and added to 7 is 9.0.\n",
      "The 5th iteration value times 2 divided by 3 and added to 7 is 10.333333333333334.\n",
      "The 7th iteration value times 2 divided by 3 and added to 7 is 11.666666666666668.\n",
      "The 9th iteration value times 2 divided by 3 and added to 7 is 13.0.\n"
     ]
    }
   ],
   "source": [
    "# If-statements\n",
    "\n",
    "# Exactly how it sounds\n",
    "if 4 > 5:\n",
    "    print('Something has gone awry in the universe')\n",
    "\n",
    "if 4 > 5:\n",
    "    print('Something is still very wrong')\n",
    "else:\n",
    "    print('Whew! Everything\\'s normal.')  # note the escape character for the single quote\n",
    "\n",
    "# The 'elif' statement in Python is similar to 'else if' in Matlab\n",
    "for counting_variable in range(1, 11, 2):\n",
    "    if counting_variable == 1:\n",
    "        print(f\"The {counting_variable}st iteration value times 2 divided by 3 and added to 7 is {counting_variable * 2 / 3 + 7}.\")\n",
    "    elif counting_variable == 3:\n",
    "        print(f\"The {counting_variable}rd iteration value times 2 divided by 3 and added to 7 is {counting_variable * 2 / 3 + 7}.\")\n",
    "    else:\n",
    "        print(f\"The {counting_variable}th iteration value times 2 divided by 3 and added to 7 is {counting_variable * 2 / 3 + 7}.\")"
   ]
  },
  {
   "cell_type": "code",
   "execution_count": 29,
   "metadata": {},
   "outputs": [
    {
     "name": "stdout",
     "output_type": "stream",
     "text": [
      "True\n",
      "False\n",
      "<class 'bool'>\n",
      "False\n",
      "False\n",
      "True\n"
     ]
    }
   ],
   "source": [
    "# Boolean (true/false)\n",
    "\n",
    "# Sometimes, it's useful to know if a statement is TRUE or FALSE. \n",
    "# You can use a double-equals sign:\n",
    "\n",
    "print(5 == 5)\n",
    "\n",
    "# The answer is 'True'. The opposite of true is false:\n",
    "print(5 == 4)\n",
    "\n",
    "# You can assign these answers to variables:\n",
    "fourIsFive = (4 == 5)\n",
    "\n",
    "print(type(fourIsFive))\n",
    "# Note that 'fourIsFive' is type \"bool\", or boolean.\n",
    "\n",
    "# Other related useful functions:\n",
    "matrix0 = np.full((10, 3), False)\n",
    "matrix1 = np.full((4, 12), True)\n",
    "\n",
    "# You can use the not operator \"not\" to negate a statement:\n",
    "print(not (1 == 1))  # False because the negation of 1==1 is false\n",
    "print(not (4 > 3))   # Also false because the negation of 4>3 is false\n",
    "print(not (4 < 3))   # True because it is false (not) that 4 is greater than 3. Tricky!\n",
    "\n",
    "# Things can sometimes get tricky:\n",
    "truthtest = (1 == 2)\n",
    "\n",
    "# Remember:\n",
    "#    One equals sign is a statement (\"you have this value\").\n",
    "#    Two equals signs means you are asking a question (\"are these the same?\")."
   ]
  },
  {
   "cell_type": "code",
   "execution_count": 30,
   "metadata": {},
   "outputs": [
    {
     "name": "stdout",
     "output_type": "stream",
     "text": [
      "[23.9124803  23.92184984 23.86554359 23.13493028]\n",
      "[[ 1  2  3]\n",
      " [10 20 30]]\n",
      "[[ 1  2  3  1  2  3]\n",
      " [10 20 30 10 20 30]]\n",
      "[[ 1  2  3]\n",
      " [10 20 30]\n",
      " [ 1  2  3]\n",
      " [10 20 30]]\n"
     ]
    }
   ],
   "source": [
    "# Repmat\n",
    "\n",
    "# In Python, we can use numpy's tile function to replicate matrices.\n",
    "\n",
    "mat = np.random.rand(4)\n",
    "\n",
    "print(mat + 23)\n",
    "\n",
    "# Now imagine that mat is EEG data with 4 electrodes and 10 time points:\n",
    "mat = np.random.rand(4, 10)\n",
    "\n",
    "# Now you want to subtract the mean over time:\n",
    "meanOverTime = np.mean(mat, axis=1)  # axis=1 computes the mean across columns\n",
    "\n",
    "# We can use broadcasting in numpy to avoid using tile (repmat in Matlab):\n",
    "matmean = mat - meanOverTime[:, np.newaxis]\n",
    "\n",
    "# Other examples of tile:\n",
    "mat = np.array([[1, 2, 3], [10, 20, 30]])\n",
    "\n",
    "print(np.tile(mat, (1, 1)))\n",
    "print(np.tile(mat, (1, 2)))\n",
    "print(np.tile(mat, (2, 1)))"
   ]
  },
  {
   "cell_type": "code",
   "execution_count": 31,
   "metadata": {},
   "outputs": [
    {
     "name": "stdout",
     "output_type": "stream",
     "text": [
      "[4.90806187 5.48380402 3.36575588 3.58752053 4.51297025 3.50439149\n",
      " 2.8745811  3.79867    3.06544302 4.93506239]\n"
     ]
    },
    {
     "data": {
      "image/png": "[encoded data removed]",
      "text/plain": [
       "<Figure size 640x480 with 1 Axes>"
      ]
     },
     "metadata": {},
     "output_type": "display_data"
    }
   ],
   "source": [
    "# Bsxfun\n",
    "\n",
    "# In Python, broadcasting can often replace the need for Matlab's bsxfun.\n",
    "\n",
    "# For example, the following function will add 4 to a random matrix:\n",
    "print(np.random.randn(10) + 4)\n",
    "\n",
    "# This might not seem any better than \"np.random.randn(10) + 4\" and for this small\n",
    "# case, it isn't. Broadcasting is more useful because it performs\n",
    "# singleton-expansion, which means you may be able to avoid using tile (repmat in Matlab).\n",
    "# For example, imagine a dataset with 100 channels and 100,000 time points: \n",
    "a = np.random.rand(100, 100000)\n",
    "\n",
    "# To subtract the mean of the entire time series: \n",
    "am = a - np.mean(a, axis=1)[:, np.newaxis]\n",
    "\n",
    "# Let's do a timing test...\n",
    "import time\n",
    "\n",
    "start_time = time.time()\n",
    "for i in range(100):\n",
    "    am = a - np.tile(np.mean(a, axis=1)[:, np.newaxis], (1, a.shape[1]))\n",
    "end_time = time.time()\n",
    "t_repmat = end_time - start_time\n",
    "\n",
    "start_time = time.time()\n",
    "for i in range(100):\n",
    "    am = a - np.mean(a, axis=1)[:, np.newaxis]\n",
    "end_time = time.time()\n",
    "t_broadcasting = end_time - start_time\n",
    "\n",
    "import matplotlib.pyplot as plt\n",
    "\n",
    "plt.bar(['repmat', 'broadcasting'], [t_repmat, t_broadcasting])\n",
    "plt.title(f\"Broadcasting took {100 * t_broadcasting / t_repmat:.2f}% of the computation time.\")\n",
    "plt.show()\n",
    "\n",
    "# Thus, broadcasting is a bit faster but also more convenient to use, and more elegant. \n",
    "# There are other similar functions to bsxfun, including map and list comprehensions. \n",
    "# In addition to speed, these Pythonic approaches allow you to avoid using loops. \n",
    "# For example, let's say you want to know the length of items in a list. \n",
    "\n",
    "# Create list whose elements have variable lengths\n",
    "c = [np.random.randn(round(np.random.rand() * 100)) for _ in range(40)]\n",
    "\n",
    "# Now you want to know how many elements are in each cell. \n",
    "# Normally you need a loop:\n",
    "cell_lengths = [len(cell) for cell in c]\n",
    "\n",
    "# But a list comprehension is more efficient and Pythonic:\n",
    "cell_lengths = [len(cell) for cell in c]"
   ]
  },
  {
   "cell_type": "markdown",
   "metadata": {},
   "source": [
    "Continue on to script b..."
   ]
  }
 ],
 "metadata": {
  "kernelspec": {
   "display_name": "Python 3",
   "language": "python",
   "name": "python3"
  },
  "language_info": {
   "codemirror_mode": {
    "name": "ipython",
    "version": 3
   },
   "file_extension": ".py",
   "mimetype": "text/x-python",
   "name": "python",
   "nbconvert_exporter": "python",
   "pygments_lexer": "ipython3",
   "version": "3.10.12"
  }
 },
 "nbformat": 4,
 "nbformat_minor": 2
}
