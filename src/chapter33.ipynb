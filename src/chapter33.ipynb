{
 "cells": [
  {
   "cell_type": "markdown",
   "metadata": {},
   "source": [
    "#### Analyzing Neural Time Series Data\n",
    "Python code for Chapter 33 -- converted from original Matlab by AE Studio (and ChatGPT)\\\n",
    "Original Matlab code by Mike X Cohen\n",
    "\n",
    "This code accompanies the book, titled \"Analyzing Neural Time Series Data\" (MIT Press).\\\n",
    "Using the code without following the book may lead to confusion, incorrect data analyses, and misinterpretations of results.\\\n",
    "Mike X Cohen and AE Studio assume no responsibility for inappropriate or incorrect use of this code."
   ]
  },
  {
   "cell_type": "code",
   "execution_count": null,
   "metadata": {},
   "outputs": [],
   "source": []
  }
 ],
 "metadata": {
  "language_info": {
   "name": "python"
  }
 },
 "nbformat": 4,
 "nbformat_minor": 2
}
