{
 "cells": [
  {
   "cell_type": "markdown",
   "metadata": {},
   "source": [
    "# Analyzing Neural Time Series Data: Theory and Practice - Python Implementation"
   ]
  },
  {
   "cell_type": "markdown",
   "metadata": {},
   "source": [
    "This repository hosts the Python implementation of code from the amazing book by Mike X Cohen, \"[Analyzing Neural Time Series Data: Theory and Practice](https://www.amazon.com/Analyzing-Neural-Time-Data-Practice/dp/0262019876/ref=sr_1_1?crid=27317GNOGVB1V&keywords=Analyzing+Neural+Time+Series+Data%3A+Theory+and+Practice&qid=1706987627&s=books&sprefix=analyzing+neural+time+series+data+theory+and+practice%2Cstripbooks%2C237&sr=1-1)\" (MIT Press, 2012), translating the original MATLAB scripts for Python users. \n",
    "\n",
    "The book has been inspirational to many of us at AE Studio and our friends, so we hope this Python reimplementation helps many more people get started with the wonders of neural data analysis."
   ]
  },
  {
   "cell_type": "markdown",
   "metadata": {},
   "source": [
    "### [Find GitHub repo here](https://github.com/agencyenterprise/AnalyzingNeuralTimeSeries-Python/)"
   ]
  },
  {
   "cell_type": "markdown",
   "metadata": {},
   "source": [
    "### Acknowledgements\n",
    "We thank Andrew Roberts for his initial work and for providing the impetus for this project and Sumner Norman for emphasizing the importance of this work.\n",
    "And of course, Mike X Cohen for all his amazing work in the field."
   ]
  },
  {
   "cell_type": "markdown",
   "metadata": {},
   "source": [
    "### Other implementations\n",
    "\n",
    "    Andrew Roberts - https://github.com/ajroberts0417/ANTS-python\n",
    "    Lyndon Duong - https://github.com/lyndond/Analyzing_Neural_Time_Series\n",
    "    Original Matlab code - https://github.com/mikexcohen/AnalyzingNeuralTimeSeries/tree/main"
   ]
  }
 ],
 "metadata": {
  "kernelspec": {
   "display_name": "python3",
   "language": "python",
   "name": "python3"
  }
 },
 "nbformat": 4,
 "nbformat_minor": 4
}
