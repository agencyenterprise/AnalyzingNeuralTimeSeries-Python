{
 "cells": [
  {
   "cell_type": "markdown",
   "metadata": {},
   "source": [
    "# Analyzing Neural Time Series - Python Implementation\n",
    "\n",
    "> Python Implementation of Code for ANTS book (Cohen, 2012, MIT Press)"
   ]
  },
  {
   "cell_type": "markdown",
   "metadata": {},
   "source": [
    "This is a Python implementation of code that accompanies the [book](https://www.amazon.com/Analyzing-Neural-Time-Data-Practice/dp/0262019876).\n",
    "\n",
    "The original Matlab code can be found [here](https://github.com/mikexcohen/AnalyzingNeuralTimeSeries/tree/main).\n",
    "\n",
    "See also these previous implementations by [lyndond](https://github.com/lyndond/Analyzing_Neural_Time_Series) and [ajroberts0417](https://github.com/ajroberts0417/ANTS-python)."
   ]
  }
 ],
 "metadata": {
  "kernelspec": {
   "display_name": "python3",
   "language": "python",
   "name": "python3"
  }
 },
 "nbformat": 4,
 "nbformat_minor": 4
}
