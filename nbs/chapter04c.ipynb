{
 "cells": [
  {
   "cell_type": "markdown",
   "metadata": {},
   "source": [
    "#### Chapter 4c\n",
    "### Analyzing Neural Time Series Data\n",
    "Python code for Chapter 4 script C -- converted from original Matlab by AE Studio (and ChatGPT)\\\n",
    "Original Matlab code by Mike X Cohen\n",
    "\n",
    "This code accompanies the book, titled \"Analyzing Neural Time Series Data\" (MIT Press).\\\n",
    "Using the code without following the book may lead to confusion, incorrect data analyses, and misinterpretations of results.\\\n",
    "Mike X Cohen and AE Studio assume no responsibility for inappropriate or incorrect use of this code."
   ]
  },
  {
   "cell_type": "code",
   "execution_count": null,
   "metadata": {},
   "outputs": [],
   "source": [
    "# Import necessary libraries\n",
    "import numpy as np\n",
    "from tkinter import filedialog\n",
    "from tkinter import Tk\n",
    "import csv"
   ]
  },
  {
   "cell_type": "code",
   "execution_count": null,
   "metadata": {},
   "outputs": [
    {
     "name": "stdout",
     "output_type": "stream",
     "text": [
      "Variable         Type      Data/Info\n",
      "------------------------------------\n",
      "Tk               type      <class 'tkinter.Tk'>\n",
      "csv              module    <module 'csv' from '/User<...>2/lib/python3.10/csv.py'>\n",
      "filedialog       module    <module 'tkinter.filedial<...>0/tkinter/filedialog.py'>\n",
      "leave_me_alone   int       10\n",
      "np               module    <module 'numpy' from '/Us<...>kages/numpy/__init__.py'>\n"
     ]
    }
   ],
   "source": [
    "# Clearing variables in Python are most often done by simply overwriting them, but they can also be deleted.\n",
    "# Here's an example of deleting a variable:\n",
    "\n",
    "leave_me_alone = 10\n",
    "remove_me_please = 20\n",
    "del remove_me_please\n",
    "\n",
    "# To see the list of variables currently in the namespace, you can use:\n",
    "%whos\n",
    "\n",
    "# Trying to print a deleted variable will raise an error in Python.\n",
    "# Uncommenting the following line will raise a NameError:\n",
    "# print(remove_me_please)"
   ]
  },
  {
   "cell_type": "code",
   "execution_count": null,
   "metadata": {},
   "outputs": [
    {
     "name": "stderr",
     "output_type": "stream",
     "text": [
      "2023-12-06 13:04:11.321 python[29248:42197023] +[CATransaction synchronize] called within transaction\n"
     ]
    }
   ],
   "source": [
    "# Basic importing text data\n",
    "\n",
    "# In Python, you can load numeric data from a text file using numpy.\n",
    "\n",
    "# Loading data from a text file:\n",
    "data = np.loadtxt('../data/chapter04_datafile.txt')\n",
    "\n",
    "# For a more interactive approach, you can use a file dialog to select a file:\n",
    "root = Tk()\n",
    "root.withdraw()  # we don't want a full GUI, so keep the root window from appearing\n",
    "file_path = filedialog.askopenfilename(filetypes=[(\"Text files\", \"*.txt\")])\n",
    "data = np.loadtxt(file_path)\n",
    "\n",
    "# Reading data from an Excel file can be done using pandas:\n",
    "import pandas as pd\n",
    "\n",
    "# Read data from an Excel file:\n",
    "excel_data = pd.read_excel('../data/chapter04_excel_data.xls')\n",
    "numberdata = excel_data.to_numpy()\n",
    "textdata = excel_data.columns.values\n",
    "raw_data = excel_data.values"
   ]
  },
  {
   "cell_type": "code",
   "execution_count": null,
   "metadata": {},
   "outputs": [],
   "source": [
    "# Advanced importing text data\n",
    "\n",
    "# In Python, you can use the csv module for more complex data import scenarios.\n",
    "\n",
    "behavioral_data = []  # Initialize an empty list to store the data.\n",
    "\n",
    "# Open the file and read line by line.\n",
    "with open('../data/chapter04_headache_data.txt', 'r') as fid:\n",
    "    reader = csv.reader(fid, delimiter='\\t')\n",
    "    \n",
    "    datarow = 0\n",
    "    for row in reader:\n",
    "        if 'trial' not in [element.lower() for element in row]:\n",
    "            continue  # Skip to the next iteration if 'trial' is not in the row.\n",
    "        \n",
    "        # Find the column indices for the relevant data.\n",
    "        trial_column = row.index('trial')\n",
    "        choice_column = row.index('choice')\n",
    "        rt_column = row.index('rt')\n",
    "        accuracy_column = row.index('accuracy')\n",
    "        \n",
    "        # Extract and convert the data, then append to the behavioral_data list.\n",
    "        behavioral_data.append([\n",
    "            float(row[trial_column + 1]),\n",
    "            float(row[choice_column + 1]),\n",
    "            float(row[rt_column + 1]),\n",
    "            float(row[accuracy_column + 1])\n",
    "        ])\n",
    "        \n",
    "        datarow += 1  # Increment the row counter."
   ]
  },
  {
   "cell_type": "code",
   "execution_count": null,
   "metadata": {},
   "outputs": [
    {
     "name": "stdout",
     "output_type": "stream",
     "text": [
      "(11, 35)\n",
      "(11, 30)\n"
     ]
    }
   ],
   "source": [
    "# Initializing variables\n",
    "\n",
    "num_rows = 10\n",
    "num_cols = 35\n",
    "\n",
    "# Initialize with zeros (typical approach in Python)\n",
    "largematrix = np.zeros((num_rows, num_cols))\n",
    "\n",
    "# Example of processing in a nested loop\n",
    "for rowi in range(num_rows):\n",
    "    for coli in range(num_cols):\n",
    "        # Processing here...\n",
    "        pass\n",
    "\n",
    "# Note that in Python, you can dynamically resize numpy arrays, but it's not efficient.\n",
    "largematrix = np.pad(largematrix, ((0, 1), (0, 0)), mode='constant', constant_values=10) # Add a new row.\n",
    "largematrix = np.reshape(largematrix, (largematrix.shape[0], largematrix.shape[1], 1)) # Add a dimension.\n",
    "largematrix = np.pad(largematrix, ((0, 0), (0, 0), (0, 2)), mode='constant', constant_values=0)\n",
    "largematrix[0, num_cols // 2, 2] = 100\n",
    "\n",
    "# Decrease dimensions by re-assignment:\n",
    "largematrix = largematrix[:, :, 0]  # Remove the last dimension.\n",
    "\n",
    "# You can also decrease the size of arrays by slicing:\n",
    "print(largematrix.shape)\n",
    "largematrix = largematrix[:, :-5]  # Remove the last 5 columns.\n",
    "print(largematrix.shape)\n",
    "\n",
    "# Again, changing matrix sizes and dimensions should be avoided when\n",
    "# possible, and done carefully when necessary."
   ]
  },
  {
   "cell_type": "code",
   "execution_count": null,
   "metadata": {},
   "outputs": [],
   "source": [
    "# Basic saving data\n",
    "\n",
    "# Save as a .npy file (Python's binary format, readable with numpy):\n",
    "np.save('../data/my_python_variables.npy', data)\n",
    "\n",
    "# Save as a text file with a specific delimiter:\n",
    "np.savetxt('../data/data_written_from_python.txt', data, delimiter='\\t')"
   ]
  },
  {
   "cell_type": "code",
   "execution_count": null,
   "metadata": {},
   "outputs": [
    {
     "name": "stdout",
     "output_type": "stream",
     "text": [
      "Finished writing line 1 of 2\n",
      "Finished writing line 2 of 2\n"
     ]
    }
   ],
   "source": [
    "# Advanced saving data\n",
    "\n",
    "# Writing data to a text file in a format that can be imported into SPSS or Excel.\n",
    "with open('../data/data_output_SPSS_format.txt', 'w', newline='') as fid:\n",
    "    writer = csv.writer(fid, delimiter='\\t')\n",
    "    \n",
    "    # Variable labels\n",
    "    variable_labels = ['Name', 'trial', 'choice', 'rt', 'accuracy']\n",
    "    \n",
    "    # Subject names\n",
    "    subject_names = ['billy', 'bob']\n",
    "    \n",
    "    # Write variable labels\n",
    "    writer.writerow(variable_labels)\n",
    "    \n",
    "    # Write data rows\n",
    "    for datarowi, data_row in enumerate(behavioral_data):\n",
    "        # Write subject name and data\n",
    "        writer.writerow([subject_names[datarowi % len(subject_names)]] + data_row)\n",
    "        print(f'Finished writing line {datarowi + 1} of {len(behavioral_data)}')"
   ]
  }
 ],
 "metadata": {
  "kernelspec": {
   "display_name": "python3",
   "language": "python",
   "name": "python3"
  }
 },
 "nbformat": 4,
 "nbformat_minor": 2
}
